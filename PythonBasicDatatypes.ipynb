{
  "nbformat": 4,
  "nbformat_minor": 0,
  "metadata": {
    "colab": {
      "name": "PythonBasicDatatypes.ipynb",
      "version": "0.3.2",
      "provenance": [],
      "include_colab_link": true
    },
    "kernelspec": {
      "name": "python3",
      "display_name": "Python 3"
    }
  },
  "cells": [
    {
      "cell_type": "markdown",
      "metadata": {
        "id": "view-in-github",
        "colab_type": "text"
      },
      "source": [
        "<a href=\"https://colab.research.google.com/github/adamsmax/Basic-python-for-Deep-Learning--Part-1/blob/master/PythonBasicDatatypes.ipynb\" target=\"_parent\"><img src=\"https://colab.research.google.com/assets/colab-badge.svg\" alt=\"Open In Colab\"/></a>"
      ]
    },
    {
      "cell_type": "code",
      "metadata": {
        "id": "Q5wJnb6g42wp",
        "colab_type": "code",
        "outputId": "1b479d59-6672-42c7-f82e-e07f842eb941",
        "colab": {
          "base_uri": "https://localhost:8080/",
          "height": 35
        }
      },
      "source": [
        "type(name)"
      ],
      "execution_count": 0,
      "outputs": [
        {
          "output_type": "execute_result",
          "data": {
            "text/plain": [
              "str"
            ]
          },
          "metadata": {
            "tags": []
          },
          "execution_count": 57
        }
      ]
    },
    {
      "cell_type": "code",
      "metadata": {
        "id": "KTAN9aHP4JGa",
        "colab_type": "code",
        "colab": {}
      },
      "source": [
        "name = 'iPhone 5s'"
      ],
      "execution_count": 0,
      "outputs": []
    },
    {
      "cell_type": "code",
      "metadata": {
        "id": "2MchirP046b3",
        "colab_type": "code",
        "outputId": "7c33f175-4afa-4e5b-b030-ec9d3d7d4c7f",
        "colab": {
          "base_uri": "https://localhost:8080/",
          "height": 35
        }
      },
      "source": [
        "screen_size=4.3\n",
        "type(screen_size)"
      ],
      "execution_count": 0,
      "outputs": [
        {
          "output_type": "execute_result",
          "data": {
            "text/plain": [
              "float"
            ]
          },
          "metadata": {
            "tags": []
          },
          "execution_count": 58
        }
      ]
    },
    {
      "cell_type": "code",
      "metadata": {
        "id": "Mb_CdtRn5rAt",
        "colab_type": "code",
        "outputId": "776d4915-b5d8-4ca2-9697-f92e818a7dec",
        "colab": {
          "base_uri": "https://localhost:8080/",
          "height": 53
        }
      },
      "source": [
        "print(name)\n",
        "print('just bought an '+name)"
      ],
      "execution_count": 0,
      "outputs": [
        {
          "output_type": "stream",
          "text": [
            "iPhone 5s\n",
            "just bought an iPhone 5s\n"
          ],
          "name": "stdout"
        }
      ]
    },
    {
      "cell_type": "code",
      "metadata": {
        "id": "oMzMvrQg5yng",
        "colab_type": "code",
        "outputId": "f7108d31-22a9-4d84-cfce-83f112be61b8",
        "colab": {
          "base_uri": "https://localhost:8080/",
          "height": 35
        }
      },
      "source": [
        "a=3 \n",
        "b=2\n",
        "print(a+b,a-b,a*b,a/b,a**b,a//b)"
      ],
      "execution_count": 0,
      "outputs": [
        {
          "output_type": "stream",
          "text": [
            "5 1 6 1.5 9 1\n"
          ],
          "name": "stdout"
        }
      ]
    },
    {
      "cell_type": "code",
      "metadata": {
        "id": "ItlK275K59DJ",
        "colab_type": "code",
        "outputId": "fcb40dc4-7af9-4f97-9997-8f37bb973f4f",
        "colab": {
          "base_uri": "https://localhost:8080/",
          "height": 35
        }
      },
      "source": [
        "b=False\n",
        "print(b==False and screen_size<=4.3)"
      ],
      "execution_count": 0,
      "outputs": [
        {
          "output_type": "stream",
          "text": [
            "True\n"
          ],
          "name": "stdout"
        }
      ]
    },
    {
      "cell_type": "code",
      "metadata": {
        "id": "v3jeDsaI6ONB",
        "colab_type": "code",
        "outputId": "03724576-da98-47f0-d2fe-91ed18d32ae1",
        "colab": {
          "base_uri": "https://localhost:8080/",
          "height": 70
        }
      },
      "source": [
        "if b==False:\n",
        "  print(name+' supports Android')\n",
        "  print('second statement')\n",
        "print('outside if')"
      ],
      "execution_count": 0,
      "outputs": [
        {
          "output_type": "stream",
          "text": [
            "iPhone 5s supports Android\n",
            "second statement\n",
            "outside if\n"
          ],
          "name": "stdout"
        }
      ]
    },
    {
      "cell_type": "code",
      "metadata": {
        "id": "Rwzucv--DK5w",
        "colab_type": "code",
        "outputId": "235ae7ef-b057-4b17-d6e1-3e8eb16eb7dd",
        "colab": {
          "base_uri": "https://localhost:8080/",
          "height": 105
        }
      },
      "source": [
        "for i in range(5):\n",
        "  print(i,i**3)"
      ],
      "execution_count": 0,
      "outputs": [
        {
          "output_type": "stream",
          "text": [
            "0 0\n",
            "1 1\n",
            "2 8\n",
            "3 27\n",
            "4 64\n"
          ],
          "name": "stdout"
        }
      ]
    },
    {
      "cell_type": "code",
      "metadata": {
        "id": "Y4zWcGEIEV0C",
        "colab_type": "code",
        "outputId": "a3771147-942d-4bcd-80ce-c7c32eabf2a3",
        "colab": {
          "base_uri": "https://localhost:8080/",
          "height": 122
        }
      },
      "source": [
        "i=0\n",
        "while i<=5:\n",
        "  print(i,i**2)\n",
        "  i+=1"
      ],
      "execution_count": 0,
      "outputs": [
        {
          "output_type": "stream",
          "text": [
            "0 0\n",
            "1 1\n",
            "2 4\n",
            "3 9\n",
            "4 16\n",
            "5 25\n"
          ],
          "name": "stdout"
        }
      ]
    },
    {
      "cell_type": "code",
      "metadata": {
        "id": "-y23KCstEgir",
        "colab_type": "code",
        "colab": {}
      },
      "source": [
        "def print_square(stopval):\n",
        "  for i in range(stopval):\n",
        "    print(i,i**2)"
      ],
      "execution_count": 0,
      "outputs": []
    },
    {
      "cell_type": "code",
      "metadata": {
        "id": "x0UOdyyxEsvy",
        "colab_type": "code",
        "outputId": "52544809-8f8e-43ad-ef2b-c65c893feb0e",
        "colab": {
          "base_uri": "https://localhost:8080/",
          "height": 105
        }
      },
      "source": [
        "print_square(5)"
      ],
      "execution_count": 0,
      "outputs": [
        {
          "output_type": "stream",
          "text": [
            "0 0\n",
            "1 1\n",
            "2 4\n",
            "3 9\n",
            "4 16\n"
          ],
          "name": "stdout"
        }
      ]
    },
    {
      "cell_type": "code",
      "metadata": {
        "id": "bTXfgm74Ew8v",
        "colab_type": "code",
        "colab": {}
      },
      "source": [
        "def print_ss(stopval):\n",
        "  sum=0\n",
        "  for i in range(stopval):\n",
        "    print(i,i**2)\n",
        "    sum+=i**2\n",
        "    print(sum)\n",
        "  return sum"
      ],
      "execution_count": 0,
      "outputs": []
    },
    {
      "cell_type": "code",
      "metadata": {
        "id": "YmOPtsZ7FPmp",
        "colab_type": "code",
        "outputId": "99d76f92-0e47-4f2b-a767-1220d0677382",
        "colab": {
          "base_uri": "https://localhost:8080/",
          "height": 210
        }
      },
      "source": [
        "ss5=print_ss(5)\n",
        "print(ss5)"
      ],
      "execution_count": 0,
      "outputs": [
        {
          "output_type": "stream",
          "text": [
            "0 0\n",
            "0\n",
            "1 1\n",
            "1\n",
            "2 4\n",
            "5\n",
            "3 9\n",
            "14\n",
            "4 16\n",
            "30\n",
            "30\n"
          ],
          "name": "stdout"
        }
      ]
    },
    {
      "cell_type": "code",
      "metadata": {
        "id": "qG-OMeChFr-u",
        "colab_type": "code",
        "colab": {}
      },
      "source": [
        "range?\n"
      ],
      "execution_count": 0,
      "outputs": []
    },
    {
      "cell_type": "code",
      "metadata": {
        "id": "EP44mhNLF83S",
        "colab_type": "code",
        "outputId": "9afbeeea-7832-4110-ab18-68385a8790bb",
        "colab": {
          "base_uri": "https://localhost:8080/",
          "height": 35
        }
      },
      "source": [
        "range(1,10)"
      ],
      "execution_count": 0,
      "outputs": [
        {
          "output_type": "execute_result",
          "data": {
            "text/plain": [
              "range(1, 10)"
            ]
          },
          "metadata": {
            "tags": []
          },
          "execution_count": 70
        }
      ]
    },
    {
      "cell_type": "code",
      "metadata": {
        "id": "QDuag0KeGvK1",
        "colab_type": "code",
        "colab": {}
      },
      "source": [
        "def printssstartend(stopval,startval=0):\n",
        "  \"\"\"prints the squares of the numbes from startval(inclusive) to stopval(exclusive)\"\"\"\n",
        "  for i in range(startval,stopval):\n",
        "    print(i,i**2)"
      ],
      "execution_count": 0,
      "outputs": []
    },
    {
      "cell_type": "code",
      "metadata": {
        "id": "nwzEGF3dG98q",
        "colab_type": "code",
        "outputId": "06158382-bd23-40b2-87c7-3e0ff8f27341",
        "colab": {
          "base_uri": "https://localhost:8080/",
          "height": 158
        }
      },
      "source": [
        "printssstartend(5)\n",
        "printssstartend(5,2)"
      ],
      "execution_count": 0,
      "outputs": [
        {
          "output_type": "stream",
          "text": [
            "0 0\n",
            "1 1\n",
            "2 4\n",
            "3 9\n",
            "4 16\n",
            "2 4\n",
            "3 9\n",
            "4 16\n"
          ],
          "name": "stdout"
        }
      ]
    },
    {
      "cell_type": "code",
      "metadata": {
        "id": "cxnEgs5NHjmn",
        "colab_type": "code",
        "outputId": "2af33c38-677a-4f1e-ef1b-dec06cb621a5",
        "colab": {
          "base_uri": "https://localhost:8080/",
          "height": 105
        }
      },
      "source": [
        "help(printssstartend)"
      ],
      "execution_count": 0,
      "outputs": [
        {
          "output_type": "stream",
          "text": [
            "Help on function printssstartend in module __main__:\n",
            "\n",
            "printssstartend(stopval, startval=0)\n",
            "    prints the squares of the numbes from startval(inclusive) to stopval(exclusive)\n",
            "\n"
          ],
          "name": "stdout"
        }
      ]
    },
    {
      "cell_type": "code",
      "metadata": {
        "id": "NC9JorLDHpcQ",
        "colab_type": "code",
        "colab": {}
      },
      "source": [
        "printssstartend?"
      ],
      "execution_count": 0,
      "outputs": []
    },
    {
      "cell_type": "code",
      "metadata": {
        "id": "Yz8qo3fxIbFF",
        "colab_type": "code",
        "colab": {}
      },
      "source": [
        "myfirstlist=[name,b,screen_size]"
      ],
      "execution_count": 0,
      "outputs": []
    },
    {
      "cell_type": "code",
      "metadata": {
        "id": "mscXK5S9IobK",
        "colab_type": "code",
        "outputId": "4215404d-40a1-4972-b2b2-6a8fce2a3078",
        "colab": {
          "base_uri": "https://localhost:8080/",
          "height": 35
        }
      },
      "source": [
        "print(myfirstlist)"
      ],
      "execution_count": 0,
      "outputs": [
        {
          "output_type": "stream",
          "text": [
            "['iPhone 5s', False, 4.3]\n"
          ],
          "name": "stdout"
        }
      ]
    },
    {
      "cell_type": "code",
      "metadata": {
        "id": "GTMVCd8FIs_X",
        "colab_type": "code",
        "outputId": "a1081d52-c56f-423d-e105-59955a6fbfe7",
        "colab": {
          "base_uri": "https://localhost:8080/",
          "height": 35
        }
      },
      "source": [
        "print(myfirstlist[0],myfirstlist[1],myfirstlist[2])"
      ],
      "execution_count": 0,
      "outputs": [
        {
          "output_type": "stream",
          "text": [
            "iPhone 5s False 4.3\n"
          ],
          "name": "stdout"
        }
      ]
    },
    {
      "cell_type": "code",
      "metadata": {
        "id": "hnfN6PkfI9uy",
        "colab_type": "code",
        "outputId": "12f8c2e6-2fa1-4b8b-bc2c-ef15d2186866",
        "colab": {
          "base_uri": "https://localhost:8080/",
          "height": 35
        }
      },
      "source": [
        "myfirstlist[2:3]"
      ],
      "execution_count": 0,
      "outputs": [
        {
          "output_type": "execute_result",
          "data": {
            "text/plain": [
              "[4.3]"
            ]
          },
          "metadata": {
            "tags": []
          },
          "execution_count": 78
        }
      ]
    },
    {
      "cell_type": "code",
      "metadata": {
        "id": "7n1HdAj1MeDc",
        "colab_type": "code",
        "colab": {}
      },
      "source": [
        "mysecondlist=myfirstlist"
      ],
      "execution_count": 0,
      "outputs": []
    },
    {
      "cell_type": "code",
      "metadata": {
        "id": "eVmcUHl4MivW",
        "colab_type": "code",
        "colab": {}
      },
      "source": [
        "myfirstlist[2]=4"
      ],
      "execution_count": 0,
      "outputs": []
    },
    {
      "cell_type": "code",
      "metadata": {
        "id": "S5eY9rd4MoRG",
        "colab_type": "code",
        "outputId": "fdaf0274-7abb-496b-fcec-d3c0681dadf1",
        "colab": {
          "base_uri": "https://localhost:8080/",
          "height": 35
        }
      },
      "source": [
        "myfirstlist"
      ],
      "execution_count": 0,
      "outputs": [
        {
          "output_type": "execute_result",
          "data": {
            "text/plain": [
              "['iPhone 5s', False, 4]"
            ]
          },
          "metadata": {
            "tags": []
          },
          "execution_count": 81
        }
      ]
    },
    {
      "cell_type": "code",
      "metadata": {
        "id": "cf-uj1eCMrrF",
        "colab_type": "code",
        "outputId": "7d45f0a6-92e0-4e24-f32c-b550a5fa8fb0",
        "colab": {
          "base_uri": "https://localhost:8080/",
          "height": 35
        }
      },
      "source": [
        "mysecondlist"
      ],
      "execution_count": 0,
      "outputs": [
        {
          "output_type": "execute_result",
          "data": {
            "text/plain": [
              "['iPhone 5s', False, 4]"
            ]
          },
          "metadata": {
            "tags": []
          },
          "execution_count": 82
        }
      ]
    },
    {
      "cell_type": "code",
      "metadata": {
        "id": "5Oj_WAx5MuYV",
        "colab_type": "code",
        "colab": {}
      },
      "source": [
        "mysecondlist=list(myfirstlist)\n"
      ],
      "execution_count": 0,
      "outputs": []
    },
    {
      "cell_type": "code",
      "metadata": {
        "id": "jA73tvvaM6t4",
        "colab_type": "code",
        "outputId": "b508c736-fcda-4856-f962-937c1e835c6c",
        "colab": {
          "base_uri": "https://localhost:8080/",
          "height": 35
        }
      },
      "source": [
        "mysecondlist"
      ],
      "execution_count": 0,
      "outputs": [
        {
          "output_type": "execute_result",
          "data": {
            "text/plain": [
              "['iPhone 5s', False, 4]"
            ]
          },
          "metadata": {
            "tags": []
          },
          "execution_count": 84
        }
      ]
    },
    {
      "cell_type": "code",
      "metadata": {
        "id": "pIHJDXBxM_hf",
        "colab_type": "code",
        "outputId": "158d8302-89bf-4b12-873d-3130c4c0ab2e",
        "colab": {
          "base_uri": "https://localhost:8080/",
          "height": 35
        }
      },
      "source": [
        "myfirstlist[2]=4.7\n",
        "print(myfirstlist,mysecondlist)"
      ],
      "execution_count": 0,
      "outputs": [
        {
          "output_type": "stream",
          "text": [
            "['iPhone 5s', False, 4.7] ['iPhone 5s', False, 4]\n"
          ],
          "name": "stdout"
        }
      ]
    },
    {
      "cell_type": "code",
      "metadata": {
        "id": "lD4fCJdyNNui",
        "colab_type": "code",
        "outputId": "3330b179-19e2-476e-fec3-683f106151e2",
        "colab": {
          "base_uri": "https://localhost:8080/",
          "height": 35
        }
      },
      "source": [
        "mythirdlist=myfirstlist[1:3]\n",
        "mythirdlist"
      ],
      "execution_count": 0,
      "outputs": [
        {
          "output_type": "execute_result",
          "data": {
            "text/plain": [
              "[False, 4.7]"
            ]
          },
          "metadata": {
            "tags": []
          },
          "execution_count": 86
        }
      ]
    },
    {
      "cell_type": "code",
      "metadata": {
        "id": "nJr39BinNkhQ",
        "colab_type": "code",
        "outputId": "465c5bbb-df64-423a-b5d3-71b74aa9bade",
        "colab": {
          "base_uri": "https://localhost:8080/",
          "height": 35
        }
      },
      "source": [
        "len(myfirstlist)"
      ],
      "execution_count": 0,
      "outputs": [
        {
          "output_type": "execute_result",
          "data": {
            "text/plain": [
              "3"
            ]
          },
          "metadata": {
            "tags": []
          },
          "execution_count": 87
        }
      ]
    },
    {
      "cell_type": "code",
      "metadata": {
        "id": "QLQMHbhpNqIs",
        "colab_type": "code",
        "outputId": "e05a3ab0-3567-476f-f2eb-c3c58395568c",
        "colab": {
          "base_uri": "https://localhost:8080/",
          "height": 35
        }
      },
      "source": [
        "myfirstlist.append('3G')\n",
        "len(myfirstlist)"
      ],
      "execution_count": 0,
      "outputs": [
        {
          "output_type": "execute_result",
          "data": {
            "text/plain": [
              "4"
            ]
          },
          "metadata": {
            "tags": []
          },
          "execution_count": 88
        }
      ]
    },
    {
      "cell_type": "code",
      "metadata": {
        "id": "1QIawhoJNzdb",
        "colab_type": "code",
        "outputId": "54d77d9a-efad-4136-cdef-f93ad7f2816e",
        "colab": {
          "base_uri": "https://localhost:8080/",
          "height": 35
        }
      },
      "source": [
        "myfirstlist"
      ],
      "execution_count": 0,
      "outputs": [
        {
          "output_type": "execute_result",
          "data": {
            "text/plain": [
              "['iPhone 5s', False, 4.7, '3G']"
            ]
          },
          "metadata": {
            "tags": []
          },
          "execution_count": 89
        }
      ]
    },
    {
      "cell_type": "code",
      "metadata": {
        "id": "Jl-GKZ2zONPy",
        "colab_type": "code",
        "colab": {}
      },
      "source": [
        "my4thlist=['mulitisim',35000]"
      ],
      "execution_count": 0,
      "outputs": []
    },
    {
      "cell_type": "code",
      "metadata": {
        "id": "jA0yXy1OOUd-",
        "colab_type": "code",
        "colab": {}
      },
      "source": [
        "myfirstlist=myfirstlist+my4thlist"
      ],
      "execution_count": 0,
      "outputs": []
    },
    {
      "cell_type": "code",
      "metadata": {
        "id": "M2GeSN3jOcQX",
        "colab_type": "code",
        "outputId": "642054c6-b2bb-44e8-c640-1ae0b5b5aafd",
        "colab": {
          "base_uri": "https://localhost:8080/",
          "height": 35
        }
      },
      "source": [
        "myfirstlist"
      ],
      "execution_count": 0,
      "outputs": [
        {
          "output_type": "execute_result",
          "data": {
            "text/plain": [
              "['iPhone 5s', False, 4.7, '3G', 'mulitisim', 35000]"
            ]
          },
          "metadata": {
            "tags": []
          },
          "execution_count": 92
        }
      ]
    },
    {
      "cell_type": "code",
      "metadata": {
        "id": "PYlV48p4Ob7g",
        "colab_type": "code",
        "outputId": "adfac514-6f93-49af-e8b4-ec2f934b17a2",
        "colab": {
          "base_uri": "https://localhost:8080/",
          "height": 35
        }
      },
      "source": [
        "len(myfirstlist)"
      ],
      "execution_count": 0,
      "outputs": [
        {
          "output_type": "execute_result",
          "data": {
            "text/plain": [
              "6"
            ]
          },
          "metadata": {
            "tags": []
          },
          "execution_count": 93
        }
      ]
    },
    {
      "cell_type": "code",
      "metadata": {
        "id": "VgLhzMj5Pl1c",
        "colab_type": "code",
        "outputId": "c518ce57-cc74-43c8-94df-e3b51a837a41",
        "colab": {
          "base_uri": "https://localhost:8080/",
          "height": 122
        }
      },
      "source": [
        "for data in myfirstlist:\n",
        "  print(data)"
      ],
      "execution_count": 0,
      "outputs": [
        {
          "output_type": "stream",
          "text": [
            "iPhone 5s\n",
            "False\n",
            "4.7\n",
            "3G\n",
            "mulitisim\n",
            "35000\n"
          ],
          "name": "stdout"
        }
      ]
    },
    {
      "cell_type": "code",
      "metadata": {
        "id": "RmMATROMPrWF",
        "colab_type": "code",
        "outputId": "40bea7b4-8c5a-4583-dafa-8d4586529d28",
        "colab": {
          "base_uri": "https://localhost:8080/",
          "height": 35
        }
      },
      "source": [
        "range(5)"
      ],
      "execution_count": 0,
      "outputs": [
        {
          "output_type": "execute_result",
          "data": {
            "text/plain": [
              "range(0, 5)"
            ]
          },
          "metadata": {
            "tags": []
          },
          "execution_count": 95
        }
      ]
    },
    {
      "cell_type": "code",
      "metadata": {
        "id": "B6d_K0ivQx7X",
        "colab_type": "code",
        "outputId": "14b197c8-6f58-4798-b971-1335e57d2e8f",
        "colab": {
          "base_uri": "https://localhost:8080/",
          "height": 35
        }
      },
      "source": [
        "print(range(5))"
      ],
      "execution_count": 0,
      "outputs": [
        {
          "output_type": "stream",
          "text": [
            "range(0, 5)\n"
          ],
          "name": "stdout"
        }
      ]
    },
    {
      "cell_type": "code",
      "metadata": {
        "id": "OqovMx29Q3H6",
        "colab_type": "code",
        "outputId": "bdf65ee3-aac5-45de-d41e-19d9c07deb47",
        "colab": {
          "base_uri": "https://localhost:8080/",
          "height": 35
        }
      },
      "source": [
        "print(list(range(5)))"
      ],
      "execution_count": 0,
      "outputs": [
        {
          "output_type": "stream",
          "text": [
            "[0, 1, 2, 3, 4]\n"
          ],
          "name": "stdout"
        }
      ]
    },
    {
      "cell_type": "code",
      "metadata": {
        "id": "mBu1e1sCRJGB",
        "colab_type": "code",
        "colab": {}
      },
      "source": [
        "list1=list(range(5))"
      ],
      "execution_count": 0,
      "outputs": []
    },
    {
      "cell_type": "code",
      "metadata": {
        "id": "MQI0bOA4ROlM",
        "colab_type": "code",
        "outputId": "10d9453c-d27b-4858-c1c7-90e47703e91c",
        "colab": {
          "base_uri": "https://localhost:8080/",
          "height": 35
        }
      },
      "source": [
        "print(list1)"
      ],
      "execution_count": 0,
      "outputs": [
        {
          "output_type": "stream",
          "text": [
            "[0, 1, 2, 3, 4]\n"
          ],
          "name": "stdout"
        }
      ]
    },
    {
      "cell_type": "code",
      "metadata": {
        "id": "pN2Qelv-RRVd",
        "colab_type": "code",
        "colab": {}
      },
      "source": [
        "list2=map(lambda x:x**2,list1)"
      ],
      "execution_count": 0,
      "outputs": []
    },
    {
      "cell_type": "code",
      "metadata": {
        "id": "VdFzGJ5ZRm3B",
        "colab_type": "code",
        "outputId": "4cec7174-4d1a-4033-c3e2-c1634fb235ec",
        "colab": {
          "base_uri": "https://localhost:8080/",
          "height": 35
        }
      },
      "source": [
        "list(list2)"
      ],
      "execution_count": 0,
      "outputs": [
        {
          "output_type": "execute_result",
          "data": {
            "text/plain": [
              "[0, 1, 4, 9, 16]"
            ]
          },
          "metadata": {
            "tags": []
          },
          "execution_count": 101
        }
      ]
    },
    {
      "cell_type": "code",
      "metadata": {
        "id": "N0qG1FsbIXuH",
        "colab_type": "code",
        "colab": {}
      },
      "source": [
        "map?"
      ],
      "execution_count": 0,
      "outputs": []
    },
    {
      "cell_type": "code",
      "metadata": {
        "id": "IhOe5h6SR-aZ",
        "colab_type": "code",
        "outputId": "6f4e4aca-9453-40f4-a489-3753fa20ae44",
        "colab": {
          "base_uri": "https://localhost:8080/",
          "height": 35
        }
      },
      "source": [
        "list3=list(filter(lambda x:x%2==0,list1))\n",
        "print(list3)"
      ],
      "execution_count": 0,
      "outputs": [
        {
          "output_type": "stream",
          "text": [
            "[0, 2, 4]\n"
          ],
          "name": "stdout"
        }
      ]
    },
    {
      "cell_type": "code",
      "metadata": {
        "id": "7gSpcFD8G3cf",
        "colab_type": "code",
        "colab": {}
      },
      "source": [
        "type(myfirstlist[0])\n",
        "mysecondlist[0]=1"
      ],
      "execution_count": 0,
      "outputs": []
    },
    {
      "cell_type": "code",
      "metadata": {
        "id": "SLuuZNhWHH38",
        "colab_type": "code",
        "outputId": "b2884198-33c0-4df3-bf18-f4702715fc01",
        "colab": {
          "base_uri": "https://localhost:8080/",
          "height": 35
        }
      },
      "source": [
        "print(mysecondlist)"
      ],
      "execution_count": 0,
      "outputs": [
        {
          "output_type": "stream",
          "text": [
            "[1, False, 4]\n"
          ],
          "name": "stdout"
        }
      ]
    },
    {
      "cell_type": "code",
      "metadata": {
        "id": "pVyRGpM8j2tO",
        "colab_type": "code",
        "outputId": "a13cdb47-647a-4812-82bd-220954edc967",
        "colab": {
          "base_uri": "https://localhost:8080/",
          "height": 53
        }
      },
      "source": [
        "print(myfirstlist)\n",
        "type(myfirstlist)"
      ],
      "execution_count": 0,
      "outputs": [
        {
          "output_type": "stream",
          "text": [
            "['iPhone 5s', False, 4.7, '3G', 'mulitisim', 35000]\n"
          ],
          "name": "stdout"
        },
        {
          "output_type": "execute_result",
          "data": {
            "text/plain": [
              "list"
            ]
          },
          "metadata": {
            "tags": []
          },
          "execution_count": 106
        }
      ]
    },
    {
      "cell_type": "code",
      "metadata": {
        "id": "gMFMfL4sGQL5",
        "colab_type": "code",
        "colab": {}
      },
      "source": [
        "myfirst_tuple=('iPhone 5s',False,4.7)"
      ],
      "execution_count": 0,
      "outputs": []
    },
    {
      "cell_type": "code",
      "metadata": {
        "id": "5_Q_3WXAGYcR",
        "colab_type": "code",
        "outputId": "01352069-9ed9-4a47-de33-04cd3efe6c54",
        "colab": {
          "base_uri": "https://localhost:8080/",
          "height": 35
        }
      },
      "source": [
        "print(myfirst_tuple)"
      ],
      "execution_count": 0,
      "outputs": [
        {
          "output_type": "stream",
          "text": [
            "('iPhone 5s', False, 4.7)\n"
          ],
          "name": "stdout"
        }
      ]
    },
    {
      "cell_type": "code",
      "metadata": {
        "id": "eNGWacPGGb_z",
        "colab_type": "code",
        "outputId": "d7684e3e-be94-4ea4-de44-fdbe05e23c6d",
        "colab": {
          "base_uri": "https://localhost:8080/",
          "height": 70
        }
      },
      "source": [
        "for data in myfirst_tuple:\n",
        "  print(data)"
      ],
      "execution_count": 0,
      "outputs": [
        {
          "output_type": "stream",
          "text": [
            "iPhone 5s\n",
            "False\n",
            "4.7\n"
          ],
          "name": "stdout"
        }
      ]
    },
    {
      "cell_type": "code",
      "metadata": {
        "id": "PSTwyO4pGgC9",
        "colab_type": "code",
        "outputId": "4594eb4c-4f17-43f7-e0c2-c3c7055fdb88",
        "colab": {
          "base_uri": "https://localhost:8080/",
          "height": 167
        }
      },
      "source": [
        "myfirst_tuple[0]='iphone'"
      ],
      "execution_count": 0,
      "outputs": [
        {
          "output_type": "error",
          "ename": "TypeError",
          "evalue": "ignored",
          "traceback": [
            "\u001b[0;31m---------------------------------------------------------------------------\u001b[0m",
            "\u001b[0;31mTypeError\u001b[0m                                 Traceback (most recent call last)",
            "\u001b[0;32m<ipython-input-110-5223b253eb42>\u001b[0m in \u001b[0;36m<module>\u001b[0;34m()\u001b[0m\n\u001b[0;32m----> 1\u001b[0;31m \u001b[0mmyfirst_tuple\u001b[0m\u001b[0;34m[\u001b[0m\u001b[0;36m0\u001b[0m\u001b[0;34m]\u001b[0m\u001b[0;34m=\u001b[0m\u001b[0;34m'iphone'\u001b[0m\u001b[0;34m\u001b[0m\u001b[0;34m\u001b[0m\u001b[0m\n\u001b[0m",
            "\u001b[0;31mTypeError\u001b[0m: 'tuple' object does not support item assignment"
          ]
        }
      ]
    },
    {
      "cell_type": "code",
      "metadata": {
        "id": "Ubf1rwKgIfh8",
        "colab_type": "code",
        "colab": {}
      },
      "source": [
        "import time"
      ],
      "execution_count": 0,
      "outputs": []
    },
    {
      "cell_type": "code",
      "metadata": {
        "id": "BlpJy98iIjFd",
        "colab_type": "code",
        "colab": {}
      },
      "source": [
        "tic =time.time()\n",
        "print(tic)"
      ],
      "execution_count": 0,
      "outputs": []
    },
    {
      "cell_type": "code",
      "metadata": {
        "id": "YbWCMIVMIoTJ",
        "colab_type": "code",
        "colab": {}
      },
      "source": [
        "list01=list(range(1000000))\n",
        "tic=time.time()\n",
        "list02=(map(lambda x:x*2,list01))\n",
        "toc=time.time()\n",
        "print('time elapsed in seconds is',toc-tic)"
      ],
      "execution_count": 0,
      "outputs": []
    },
    {
      "cell_type": "code",
      "metadata": {
        "id": "J0LTxZ0TJMI8",
        "colab_type": "code",
        "colab": {}
      },
      "source": [
        "list01=tuple(range(1000000))\n",
        "tic=time.time()\n",
        "list02=(map(lambda x:x*2,list01))\n",
        "toc=time.time()\n",
        "print('time elapsed in seconds is',toc-tic)"
      ],
      "execution_count": 0,
      "outputs": []
    },
    {
      "cell_type": "code",
      "metadata": {
        "id": "I9YtuxUVKkgl",
        "colab_type": "code",
        "colab": {}
      },
      "source": [
        "myset=set(myfirstlist)\n",
        "print(myset)"
      ],
      "execution_count": 0,
      "outputs": []
    },
    {
      "cell_type": "code",
      "metadata": {
        "id": "_j7cT8ziKrHz",
        "colab_type": "code",
        "colab": {}
      },
      "source": [
        "myfirstlist.append(4.7)\n",
        "print(myfirstlist)"
      ],
      "execution_count": 0,
      "outputs": []
    },
    {
      "cell_type": "code",
      "metadata": {
        "id": "mCIcSKIWK8Dw",
        "colab_type": "code",
        "colab": {}
      },
      "source": [
        "myset=set(myfirstlist)\n",
        "print(myset)"
      ],
      "execution_count": 0,
      "outputs": []
    },
    {
      "cell_type": "code",
      "metadata": {
        "id": "QNvA-GeHLBfC",
        "colab_type": "code",
        "colab": {}
      },
      "source": [
        "mylist=list(range(100000))\n",
        "tic=time.time()\n",
        "print(96662 in mylist)\n",
        "print(867546 in mylist)\n",
        "print(96662232 in mylist)\n",
        "toc=time.time()\n",
        "print('time elapsed',toc-tic)"
      ],
      "execution_count": 0,
      "outputs": []
    },
    {
      "cell_type": "code",
      "metadata": {
        "id": "rYODnvHtL1Be",
        "colab_type": "code",
        "colab": {}
      },
      "source": [
        "myset=set(range(100000))\n",
        "tic=time.time()\n",
        "print(96662 in myset)\n",
        "print(867546 in myset)\n",
        "print(96662232 in myset)\n",
        "toc=time.time()\n",
        "print('time elapsed',toc-tic)"
      ],
      "execution_count": 0,
      "outputs": []
    },
    {
      "cell_type": "code",
      "metadata": {
        "id": "9LUL_VN1MF-3",
        "colab_type": "code",
        "colab": {}
      },
      "source": [
        "myfirstdict={}"
      ],
      "execution_count": 0,
      "outputs": []
    },
    {
      "cell_type": "code",
      "metadata": {
        "id": "Nb9IfzSClHta",
        "colab_type": "code",
        "colab": {}
      },
      "source": [
        "type(myfirstdict)"
      ],
      "execution_count": 0,
      "outputs": []
    },
    {
      "cell_type": "code",
      "metadata": {
        "id": "jtyT5ioWlKwz",
        "colab_type": "code",
        "colab": {}
      },
      "source": [
        "myfirstdict['name']='iPhone 5s'\n",
        "myfirstdict['isAndroid']=False\n",
        "myfirstdict['Screen_size']=4.7"
      ],
      "execution_count": 0,
      "outputs": []
    },
    {
      "cell_type": "code",
      "metadata": {
        "id": "rhkGnmXglj7n",
        "colab_type": "code",
        "colab": {}
      },
      "source": [
        "print(myfirstdict)"
      ],
      "execution_count": 0,
      "outputs": []
    },
    {
      "cell_type": "code",
      "metadata": {
        "id": "v_zBSY_tlnWm",
        "colab_type": "code",
        "colab": {}
      },
      "source": [
        "myfirstdict[1]=2"
      ],
      "execution_count": 0,
      "outputs": []
    },
    {
      "cell_type": "code",
      "metadata": {
        "id": "1COtrX5wlzUP",
        "colab_type": "code",
        "colab": {}
      },
      "source": [
        "myfirstdict[1]"
      ],
      "execution_count": 0,
      "outputs": []
    },
    {
      "cell_type": "code",
      "metadata": {
        "id": "2dg8vV5Ll2pt",
        "colab_type": "code",
        "colab": {}
      },
      "source": [
        "print(myfirstdict.keys())"
      ],
      "execution_count": 0,
      "outputs": []
    },
    {
      "cell_type": "code",
      "metadata": {
        "id": "ZjQO8i-Cl_I9",
        "colab_type": "code",
        "colab": {}
      },
      "source": [
        "print(myfirstdict.values())"
      ],
      "execution_count": 0,
      "outputs": []
    },
    {
      "cell_type": "code",
      "metadata": {
        "id": "2jYDAqAPBb4j",
        "colab_type": "code",
        "colab": {}
      },
      "source": [
        "for keys in myfirstdict.keys():\n",
        "  print(keys,myfirstdict[keys])\n",
        "                        "
      ],
      "execution_count": 0,
      "outputs": []
    },
    {
      "cell_type": "code",
      "metadata": {
        "id": "VhtlXg5-BrHr",
        "colab_type": "code",
        "colab": {}
      },
      "source": [
        "for values in myfirstdict.values():\n",
        "  print(values)"
      ],
      "execution_count": 0,
      "outputs": []
    },
    {
      "cell_type": "code",
      "metadata": {
        "id": "orbyjnZ3Teo8",
        "colab_type": "code",
        "colab": {}
      },
      "source": [
        "import math"
      ],
      "execution_count": 0,
      "outputs": []
    },
    {
      "cell_type": "code",
      "metadata": {
        "id": "IGlAOQeUUXJg",
        "colab_type": "code",
        "colab": {}
      },
      "source": [
        "a=math.sqrt(100)\n",
        "print(a)"
      ],
      "execution_count": 0,
      "outputs": []
    },
    {
      "cell_type": "code",
      "metadata": {
        "id": "oUkjbhEGUcOS",
        "colab_type": "code",
        "colab": {}
      },
      "source": [
        "a=math.pow(100,0.5)\n",
        "print(a)"
      ],
      "execution_count": 0,
      "outputs": []
    },
    {
      "cell_type": "code",
      "metadata": {
        "id": "YAxCcWn4Uick",
        "colab_type": "code",
        "colab": {}
      },
      "source": [
        "x=100\n",
        "y=1\n",
        "for i in range(1,10000):\n",
        "  y=y*i\n",
        "print(y)"
      ],
      "execution_count": 0,
      "outputs": []
    },
    {
      "cell_type": "code",
      "metadata": {
        "id": "G9dNA1IgVomB",
        "colab_type": "code",
        "colab": {}
      },
      "source": [
        "import math as m"
      ],
      "execution_count": 0,
      "outputs": []
    },
    {
      "cell_type": "code",
      "metadata": {
        "id": "bVYLroviWHaZ",
        "colab_type": "code",
        "colab": {}
      },
      "source": [
        "b=m.factorial(100)\n",
        "print(b)"
      ],
      "execution_count": 0,
      "outputs": []
    },
    {
      "cell_type": "code",
      "metadata": {
        "id": "pQmIMq_xWTvG",
        "colab_type": "code",
        "colab": {}
      },
      "source": [
        "from math import factorial"
      ],
      "execution_count": 0,
      "outputs": []
    },
    {
      "cell_type": "code",
      "metadata": {
        "id": "igk2nPN4WcqL",
        "colab_type": "code",
        "colab": {}
      },
      "source": [
        "y=factorial(100)\n",
        "print(y)"
      ],
      "execution_count": 0,
      "outputs": []
    },
    {
      "cell_type": "code",
      "metadata": {
        "id": "CI8aXjNyWjyM",
        "colab_type": "code",
        "colab": {}
      },
      "source": [
        "x=list(range(1,100))\n",
        "tic=time.time()\n",
        "for i in x:\n",
        "  y=1\n",
        "  for j in range(1,i):\n",
        "    y=y*j\n",
        "toc=time.time()\n",
        "print('elapsed time in seconds for own function is',toc-tic)\n",
        "tic=time.time()\n",
        "for i in x:\n",
        "  y=factorial(i)\n",
        "toc=time.time()\n",
        "print('elapsed time in seconds for in-built function is',toc-tic)"
      ],
      "execution_count": 0,
      "outputs": []
    },
    {
      "cell_type": "code",
      "metadata": {
        "id": "pWpi2MGIabTt",
        "colab_type": "code",
        "colab": {}
      },
      "source": [
        "!echo 'def hello():'>myfirstmodule.py"
      ],
      "execution_count": 0,
      "outputs": []
    },
    {
      "cell_type": "code",
      "metadata": {
        "id": "RLJ6u7i6bm7J",
        "colab_type": "code",
        "colab": {}
      },
      "source": [
        "!cat myfirstmodule.py"
      ],
      "execution_count": 0,
      "outputs": []
    },
    {
      "cell_type": "code",
      "metadata": {
        "id": "bgmPkNeWbrV9",
        "colab_type": "code",
        "colab": {}
      },
      "source": [
        "!echo '  print(\"hello i am a professional kickboxer\")'>>myfirstmodule.py"
      ],
      "execution_count": 0,
      "outputs": []
    },
    {
      "cell_type": "code",
      "metadata": {
        "id": "p_dBUlWgb3tY",
        "colab_type": "code",
        "colab": {}
      },
      "source": [
        "!cat myfirstmodule.py"
      ],
      "execution_count": 0,
      "outputs": []
    },
    {
      "cell_type": "code",
      "metadata": {
        "id": "LwipkQxKb9Sa",
        "colab_type": "code",
        "colab": {}
      },
      "source": [
        "import myfirstmodule \n",
        "myfirstmodule.hello()\n"
      ],
      "execution_count": 0,
      "outputs": []
    },
    {
      "cell_type": "code",
      "metadata": {
        "id": "fq76s_jagnk6",
        "colab_type": "code",
        "colab": {}
      },
      "source": [
        "!echo 'gkdfgdfkjgdjfkgjdfgggggggfifigjdfigjfsifjsdfkdfgjdkjvdfkvfdbfgbnmvdfdf'>file1.txt"
      ],
      "execution_count": 0,
      "outputs": []
    },
    {
      "cell_type": "code",
      "metadata": {
        "id": "Iilj5fiAe6bw",
        "colab_type": "code",
        "colab": {}
      },
      "source": [
        "file=open('file1.txt','r')"
      ],
      "execution_count": 0,
      "outputs": []
    },
    {
      "cell_type": "code",
      "metadata": {
        "id": "vtdovKQzfFy3",
        "colab_type": "code",
        "colab": {}
      },
      "source": [
        "s=file.readline()\n",
        "print(s)"
      ],
      "execution_count": 0,
      "outputs": []
    },
    {
      "cell_type": "code",
      "metadata": {
        "id": "ZhTvKUkFgRSL",
        "colab_type": "code",
        "colab": {}
      },
      "source": [
        "print(s.split('f'))"
      ],
      "execution_count": 0,
      "outputs": []
    },
    {
      "cell_type": "code",
      "metadata": {
        "id": "hIdK1pTwhK2i",
        "colab_type": "code",
        "colab": {}
      },
      "source": [
        "file.close()\n",
        "file.readline()"
      ],
      "execution_count": 0,
      "outputs": []
    },
    {
      "cell_type": "code",
      "metadata": {
        "id": "fv7J-JOshUe6",
        "colab_type": "code",
        "colab": {}
      },
      "source": [
        "with open('file1.txt','r') as file:#once you exit the block no need to close file as it automatically gets closed \n",
        "  print(file.readline())"
      ],
      "execution_count": 0,
      "outputs": []
    },
    {
      "cell_type": "code",
      "metadata": {
        "id": "7UzoI1jm3zra",
        "colab_type": "code",
        "colab": {}
      },
      "source": [
        "with open('file1.txt','r') as file:\n",
        "  print(file.read())"
      ],
      "execution_count": 0,
      "outputs": []
    },
    {
      "cell_type": "code",
      "metadata": {
        "id": "NnQ7Eb9G4TFe",
        "colab_type": "code",
        "colab": {}
      },
      "source": [
        "with open('file1.txt','r') as file:\n",
        "  for line in file:\n",
        "    print(line)"
      ],
      "execution_count": 0,
      "outputs": []
    },
    {
      "cell_type": "code",
      "metadata": {
        "id": "BCjDaa7A4vvu",
        "colab_type": "code",
        "colab": {}
      },
      "source": [
        "!echo 'fsjfnskjgkdfjgdsdkasrogiejgodjdfsdfsf'>>file1.txt"
      ],
      "execution_count": 0,
      "outputs": []
    },
    {
      "cell_type": "code",
      "metadata": {
        "id": "-19VKkcm47AJ",
        "colab_type": "code",
        "colab": {}
      },
      "source": [
        "!echo 'fsjfnskjgkdfjgdsdkasrogiejgodjdfsdfsfdfvvsvcsdfghjghdfgfsfdsadafgfhfghffgfhfhfdd'>>file1.txt"
      ],
      "execution_count": 0,
      "outputs": []
    },
    {
      "cell_type": "code",
      "metadata": {
        "id": "OjkuAjb-5H-f",
        "colab_type": "code",
        "colab": {}
      },
      "source": [
        "with open('file1.txt','r') as file:\n",
        "  for line in file:\n",
        "    for word in line.split('f'):\n",
        "      print(word)\n",
        "    print('------line finished here------')"
      ],
      "execution_count": 0,
      "outputs": []
    },
    {
      "cell_type": "code",
      "metadata": {
        "id": "KBfwriWA5ktZ",
        "colab_type": "code",
        "colab": {}
      },
      "source": [
        "with open('myfirstwrite.txt','w') as file:\n",
        "  file.write('hello nakshatra\\t\\t\\t\\thow r u')"
      ],
      "execution_count": 0,
      "outputs": []
    },
    {
      "cell_type": "code",
      "metadata": {
        "id": "KFUO-jH66Ix2",
        "colab_type": "code",
        "colab": {}
      },
      "source": [
        "!cat myfirstwrite.txt"
      ],
      "execution_count": 0,
      "outputs": []
    },
    {
      "cell_type": "code",
      "metadata": {
        "id": "2vEL3LZR7dBt",
        "colab_type": "code",
        "colab": {}
      },
      "source": [
        "class TextBook:\n",
        "  '''this is a demo class for textbooks'''\n",
        "  def __init__(self,name,pages=100,weight=500,isReference=True):\n",
        "    self.name=name\n",
        "    self.pages=pages\n",
        "    self.weight=weight\n",
        "    self.isReference=isReference\n",
        "    self.rating=-1\n",
        "  def bookrating(self):\n",
        "    return self.rating>-1"
      ],
      "execution_count": 0,
      "outputs": []
    },
    {
      "cell_type": "code",
      "metadata": {
        "id": "Pysv040b7yJO",
        "colab_type": "code",
        "colab": {}
      },
      "source": [
        "new_book=TextBook('Herbert')"
      ],
      "execution_count": 0,
      "outputs": []
    },
    {
      "cell_type": "code",
      "metadata": {
        "id": "la1lyMAJ8iYI",
        "colab_type": "code",
        "colab": {}
      },
      "source": [
        "type(new_book)"
      ],
      "execution_count": 0,
      "outputs": []
    },
    {
      "cell_type": "code",
      "metadata": {
        "id": "SPat_UuU8leD",
        "colab_type": "code",
        "colab": {}
      },
      "source": [
        "print(new_book.name,new_book.pages,new_book.weight,new_book.isReference)"
      ],
      "execution_count": 0,
      "outputs": []
    },
    {
      "cell_type": "code",
      "metadata": {
        "id": "Hg9kk7EJ9ldb",
        "colab_type": "code",
        "colab": {}
      },
      "source": [
        "new_book.pages=200\n",
        "print(new_book.name,new_book.pages,new_book.weight,new_book.isReference)"
      ],
      "execution_count": 0,
      "outputs": []
    },
    {
      "cell_type": "code",
      "metadata": {
        "id": "fJb4caOK9yqz",
        "colab_type": "code",
        "colab": {}
      },
      "source": [
        "new_book.bookrating()"
      ],
      "execution_count": 0,
      "outputs": []
    },
    {
      "cell_type": "code",
      "metadata": {
        "id": "unQBbD1n-8OJ",
        "colab_type": "code",
        "colab": {}
      },
      "source": [
        "TextBook.__doc__"
      ],
      "execution_count": 0,
      "outputs": []
    },
    {
      "cell_type": "code",
      "metadata": {
        "id": "6sYgVu8s_9w5",
        "colab_type": "code",
        "colab": {}
      },
      "source": [
        "class GuideBook(TextBook):\n",
        "  def __init__(self,name):\n",
        "    TextBook.__init__(self,name,50,300,False)\n",
        "  def __str__(self):\n",
        "    return self.name+\" \"+str(self.pages)+\" \"+str(self.weight)+\" \"+str(self.isReference)"
      ],
      "execution_count": 0,
      "outputs": []
    },
    {
      "cell_type": "code",
      "metadata": {
        "id": "Fuxum2vIAv6R",
        "colab_type": "code",
        "colab": {}
      },
      "source": [
        "new_guidebook=GuideBook('techmax')"
      ],
      "execution_count": 0,
      "outputs": []
    },
    {
      "cell_type": "code",
      "metadata": {
        "id": "OhvQ5MKCAv3r",
        "colab_type": "code",
        "colab": {}
      },
      "source": [
        "print(new_guidebook)"
      ],
      "execution_count": 0,
      "outputs": []
    },
    {
      "cell_type": "code",
      "metadata": {
        "id": "zRxZl_8_AvlY",
        "colab_type": "code",
        "colab": {}
      },
      "source": [
        "import numpy as np"
      ],
      "execution_count": 0,
      "outputs": []
    },
    {
      "cell_type": "code",
      "metadata": {
        "id": "k0i6Y7ZpvSJy",
        "colab_type": "code",
        "colab": {}
      },
      "source": [
        "x=np.array([1,2,3])\n",
        "print(x)"
      ],
      "execution_count": 0,
      "outputs": []
    },
    {
      "cell_type": "code",
      "metadata": {
        "id": "UKhTyXvnvZu8",
        "colab_type": "code",
        "colab": {}
      },
      "source": [
        "type(x)"
      ],
      "execution_count": 0,
      "outputs": []
    },
    {
      "cell_type": "code",
      "metadata": {
        "id": "f8bbeH-uwG3P",
        "colab_type": "code",
        "colab": {}
      },
      "source": [
        "l=[1,2,3]\n",
        "x=np.asarray(l)"
      ],
      "execution_count": 0,
      "outputs": []
    },
    {
      "cell_type": "code",
      "metadata": {
        "id": "cNBnRGy4wNAX",
        "colab_type": "code",
        "colab": {}
      },
      "source": [
        "print(x)"
      ],
      "execution_count": 0,
      "outputs": []
    },
    {
      "cell_type": "code",
      "metadata": {
        "id": "HQkdt2NlwPzt",
        "colab_type": "code",
        "colab": {}
      },
      "source": [
        "l1=['nick',False,4.7]\n",
        "y=np.asarray(l1)"
      ],
      "execution_count": 0,
      "outputs": []
    },
    {
      "cell_type": "code",
      "metadata": {
        "id": "ItfG5DK6wZHN",
        "colab_type": "code",
        "colab": {}
      },
      "source": [
        "print(l1)"
      ],
      "execution_count": 0,
      "outputs": []
    },
    {
      "cell_type": "code",
      "metadata": {
        "id": "bLMTC4r9weO1",
        "colab_type": "code",
        "colab": {}
      },
      "source": [
        "l2=[4,False]\n",
        "y=np.asarray(l2,float)"
      ],
      "execution_count": 0,
      "outputs": []
    },
    {
      "cell_type": "code",
      "metadata": {
        "id": "9jeFXPa7wuuy",
        "colab_type": "code",
        "colab": {}
      },
      "source": [
        "print(y)"
      ],
      "execution_count": 0,
      "outputs": []
    },
    {
      "cell_type": "code",
      "metadata": {
        "id": "fvWovv5UwyPS",
        "colab_type": "code",
        "colab": {}
      },
      "source": [
        "np.array?"
      ],
      "execution_count": 0,
      "outputs": []
    },
    {
      "cell_type": "code",
      "metadata": {
        "id": "qyUE_VazxYJp",
        "colab_type": "code",
        "colab": {}
      },
      "source": [
        "x.shape"
      ],
      "execution_count": 0,
      "outputs": []
    },
    {
      "cell_type": "code",
      "metadata": {
        "id": "2KvSjIQ-xdbp",
        "colab_type": "code",
        "colab": {}
      },
      "source": [
        "z=np.array([[1,2,3],[4,5,6]])\n",
        "print(z)"
      ],
      "execution_count": 0,
      "outputs": []
    },
    {
      "cell_type": "code",
      "metadata": {
        "id": "wBp96EyhxnQL",
        "colab_type": "code",
        "colab": {}
      },
      "source": [
        "z.shape"
      ],
      "execution_count": 0,
      "outputs": []
    },
    {
      "cell_type": "code",
      "metadata": {
        "id": "jlvgerlOyJsD",
        "colab_type": "code",
        "colab": {}
      },
      "source": [
        "z[0,2]"
      ],
      "execution_count": 0,
      "outputs": []
    },
    {
      "cell_type": "code",
      "metadata": {
        "id": "nHE9VwbGyTD4",
        "colab_type": "code",
        "colab": {}
      },
      "source": [
        "z[0,0:2]"
      ],
      "execution_count": 0,
      "outputs": []
    },
    {
      "cell_type": "code",
      "metadata": {
        "id": "x_B9onvqyYfe",
        "colab_type": "code",
        "colab": {}
      },
      "source": [
        "z[0,:]"
      ],
      "execution_count": 0,
      "outputs": []
    },
    {
      "cell_type": "code",
      "metadata": {
        "id": "VUmLBjpK1nSz",
        "colab_type": "code",
        "colab": {}
      },
      "source": [
        "x=np.zeros((4,5))"
      ],
      "execution_count": 0,
      "outputs": []
    },
    {
      "cell_type": "code",
      "metadata": {
        "id": "xgdX2v3b1q2E",
        "colab_type": "code",
        "colab": {}
      },
      "source": [
        "print(x)"
      ],
      "execution_count": 0,
      "outputs": []
    },
    {
      "cell_type": "code",
      "metadata": {
        "id": "R9qn5hfd1x1j",
        "colab_type": "code",
        "colab": {}
      },
      "source": [
        "x=np.eye(5,5)"
      ],
      "execution_count": 0,
      "outputs": []
    },
    {
      "cell_type": "code",
      "metadata": {
        "id": "uLy0xVVB13tb",
        "colab_type": "code",
        "colab": {}
      },
      "source": [
        "print(x)"
      ],
      "execution_count": 0,
      "outputs": []
    },
    {
      "cell_type": "code",
      "metadata": {
        "id": "MDiIrTRD162r",
        "colab_type": "code",
        "colab": {}
      },
      "source": [
        "x=np.random.random((4,5))"
      ],
      "execution_count": 0,
      "outputs": []
    },
    {
      "cell_type": "code",
      "metadata": {
        "id": "IQ3ja_tE2ZCb",
        "colab_type": "code",
        "colab": {}
      },
      "source": [
        "print(x)"
      ],
      "execution_count": 0,
      "outputs": []
    },
    {
      "cell_type": "code",
      "metadata": {
        "id": "65SJR_-A2b6s",
        "colab_type": "code",
        "colab": {}
      },
      "source": [
        "print(x)"
      ],
      "execution_count": 0,
      "outputs": []
    },
    {
      "cell_type": "code",
      "metadata": {
        "id": "jlAhDj852YtN",
        "colab_type": "code",
        "colab": {}
      },
      "source": [
        "print(y)"
      ],
      "execution_count": 0,
      "outputs": []
    },
    {
      "cell_type": "code",
      "metadata": {
        "id": "i-TxLxrA3bYE",
        "colab_type": "code",
        "colab": {}
      },
      "source": [
        "z=x.T\n",
        "print(z)"
      ],
      "execution_count": 0,
      "outputs": []
    },
    {
      "cell_type": "code",
      "metadata": {
        "id": "1Tpor3hcoJlc",
        "colab_type": "code",
        "colab": {}
      },
      "source": [
        "z.shape"
      ],
      "execution_count": 0,
      "outputs": []
    },
    {
      "cell_type": "code",
      "metadata": {
        "id": "M2K7Q4JeoMRR",
        "colab_type": "code",
        "colab": {}
      },
      "source": [
        "y=x.reshape(1,20)"
      ],
      "execution_count": 0,
      "outputs": []
    },
    {
      "cell_type": "code",
      "metadata": {
        "id": "zOYMSFXCofaB",
        "colab_type": "code",
        "colab": {}
      },
      "source": [
        "print(y)"
      ],
      "execution_count": 0,
      "outputs": []
    },
    {
      "cell_type": "code",
      "metadata": {
        "id": "C7-9NM_QojDd",
        "colab_type": "code",
        "colab": {}
      },
      "source": [
        "A=np.arange(5)\n",
        "B=np.arange(5)"
      ],
      "execution_count": 0,
      "outputs": []
    },
    {
      "cell_type": "code",
      "metadata": {
        "id": "ma6ejLcOsNxw",
        "colab_type": "code",
        "colab": {}
      },
      "source": [
        "C=A+B\n",
        "D=A-B\n",
        "E=A*B\n",
        "print(A,B,C)"
      ],
      "execution_count": 0,
      "outputs": []
    },
    {
      "cell_type": "code",
      "metadata": {
        "id": "k9oRtLuAsjKE",
        "colab_type": "code",
        "colab": {}
      },
      "source": [
        "print(A,A+1)"
      ],
      "execution_count": 0,
      "outputs": []
    },
    {
      "cell_type": "code",
      "metadata": {
        "id": "My_1fHAKspp2",
        "colab_type": "code",
        "colab": {}
      },
      "source": [
        "x=np.floor(np.random.random((4,5))*1000)\n",
        "print(x)"
      ],
      "execution_count": 0,
      "outputs": []
    },
    {
      "cell_type": "code",
      "metadata": {
        "id": "RAd6-zlXtuvc",
        "colab_type": "code",
        "colab": {}
      },
      "source": [
        "v=[2,3,4]\n",
        "u=[-1,0,1]\n",
        "p1=np.inner(v,u)\n",
        "p2=np.outer(v,u)\n",
        "print(p1,p2)"
      ],
      "execution_count": 0,
      "outputs": []
    },
    {
      "cell_type": "code",
      "metadata": {
        "id": "i-ImHopPuntQ",
        "colab_type": "code",
        "colab": {}
      },
      "source": [
        "A=np.ones((2,3))\n",
        "B=np.ones((3,2))\n",
        "print(A,B)"
      ],
      "execution_count": 0,
      "outputs": []
    },
    {
      "cell_type": "code",
      "metadata": {
        "id": "PDm9FAvKu5FS",
        "colab_type": "code",
        "colab": {}
      },
      "source": [
        "np.dot(A,B)"
      ],
      "execution_count": 0,
      "outputs": []
    },
    {
      "cell_type": "code",
      "metadata": {
        "id": "JH-zWAIKvO5Q",
        "colab_type": "code",
        "colab": {}
      },
      "source": [
        "np.dot(A.T,B.T)"
      ],
      "execution_count": 0,
      "outputs": []
    },
    {
      "cell_type": "code",
      "metadata": {
        "id": "AXHVvSH4viNA",
        "colab_type": "code",
        "colab": {}
      },
      "source": [
        "A.sum()"
      ],
      "execution_count": 0,
      "outputs": []
    },
    {
      "cell_type": "code",
      "metadata": {
        "id": "QQEeuxqUvhh5",
        "colab_type": "code",
        "colab": {}
      },
      "source": [
        "A.sum(axis=0)"
      ],
      "execution_count": 0,
      "outputs": []
    },
    {
      "cell_type": "code",
      "metadata": {
        "id": "fQe0JOzyvgMM",
        "colab_type": "code",
        "colab": {}
      },
      "source": [
        "A.sum(axis=1)"
      ],
      "execution_count": 0,
      "outputs": []
    },
    {
      "cell_type": "code",
      "metadata": {
        "id": "yYFTlhTOwJU-",
        "colab_type": "code",
        "colab": {}
      },
      "source": [
        "A.sum(axis=2)"
      ],
      "execution_count": 0,
      "outputs": []
    },
    {
      "cell_type": "code",
      "metadata": {
        "id": "VjzcJCQJwQMr",
        "colab_type": "code",
        "colab": {}
      },
      "source": [
        "A.max()"
      ],
      "execution_count": 0,
      "outputs": []
    },
    {
      "cell_type": "code",
      "metadata": {
        "id": "JWZ_q-ZIwdj3",
        "colab_type": "code",
        "colab": {}
      },
      "source": [
        "import matplotlib.pyplot as plt\n",
        "import numpy as np"
      ],
      "execution_count": 0,
      "outputs": []
    },
    {
      "cell_type": "code",
      "metadata": {
        "id": "sssqb9GJx9Aw",
        "colab_type": "code",
        "colab": {}
      },
      "source": [
        "x=np.random.random((10,1))\n",
        "print(x)"
      ],
      "execution_count": 0,
      "outputs": []
    },
    {
      "cell_type": "code",
      "metadata": {
        "id": "b6YTRRRsyK7l",
        "colab_type": "code",
        "colab": {}
      },
      "source": [
        "plt.plot(x,'*-')\n",
        "plt.show()"
      ],
      "execution_count": 0,
      "outputs": []
    },
    {
      "cell_type": "code",
      "metadata": {
        "id": "p2bkcjhAzPZN",
        "colab_type": "code",
        "colab": {}
      },
      "source": [
        "x=np.linspace(1,10,100)\n",
        "print(x)\n",
        "y=np.power(x,0.5)\n",
        "plt.plot(x,y)\n",
        "plt.show()"
      ],
      "execution_count": 0,
      "outputs": []
    },
    {
      "cell_type": "code",
      "metadata": {
        "id": "Me7kiJaPz6tq",
        "colab_type": "code",
        "colab": {}
      },
      "source": [
        "x=np.linspace(1,100,50)\n",
        "print(x)\n",
        "y=np.power(x,2)\n",
        "plt.plot(x,y,'+-')\n",
        "plt.show()"
      ],
      "execution_count": 0,
      "outputs": []
    },
    {
      "cell_type": "code",
      "metadata": {
        "id": "OHP97vQ40wTD",
        "colab_type": "code",
        "colab": {}
      },
      "source": [
        "import seaborn as sns"
      ],
      "execution_count": 0,
      "outputs": []
    },
    {
      "cell_type": "code",
      "metadata": {
        "id": "Gw-e20vRIUrz",
        "colab_type": "code",
        "colab": {}
      },
      "source": [
        "!pip install seaborn==0.9.0"
      ],
      "execution_count": 0,
      "outputs": []
    },
    {
      "cell_type": "code",
      "metadata": {
        "id": "BmBnjMd21Hlz",
        "colab_type": "code",
        "colab": {}
      },
      "source": [
        "sns.set()\n",
        "sns.lineplot(x,y)\n",
        "plt.show()"
      ],
      "execution_count": 0,
      "outputs": []
    },
    {
      "cell_type": "code",
      "metadata": {
        "id": "Z2CclViuedBn",
        "colab_type": "code",
        "colab": {}
      },
      "source": [
        "!wget https://data.cityofnewyork.us/api/views/kku6-nxdu/rows.csv?accessType=DOWNLOAD"
      ],
      "execution_count": 0,
      "outputs": []
    },
    {
      "cell_type": "code",
      "metadata": {
        "id": "R8DlHacOEfCL",
        "colab_type": "code",
        "colab": {}
      },
      "source": [
        "!ls"
      ],
      "execution_count": 0,
      "outputs": []
    },
    {
      "cell_type": "code",
      "metadata": {
        "id": "njBDVYX7Eq_Y",
        "colab_type": "code",
        "colab": {}
      },
      "source": [
        "import pandas as pd\n",
        "data=pd.read_csv('rows.csv?accessType=DOWNLOAD')\n",
        "data.head()"
      ],
      "execution_count": 0,
      "outputs": []
    },
    {
      "cell_type": "code",
      "metadata": {
        "id": "qLNOqONOFSCE",
        "colab_type": "code",
        "colab": {}
      },
      "source": [
        "ax=sns.scatterplot(x=\"JURISDICTION NAME\",y=\"COUNT PARTICIPANTS\",data=data)"
      ],
      "execution_count": 0,
      "outputs": []
    },
    {
      "cell_type": "code",
      "metadata": {
        "id": "iW5YWCMiJHKf",
        "colab_type": "code",
        "colab": {}
      },
      "source": [
        "ax=sns.scatterplot(x=\"JURISDICTION NAME\",y=\"COUNT PARTICIPANTS\",hue=\"COUNT FEMALE\",data=data)"
      ],
      "execution_count": 0,
      "outputs": []
    },
    {
      "cell_type": "code",
      "metadata": {
        "id": "1TqFTTNlY0lm",
        "colab_type": "code",
        "colab": {}
      },
      "source": [
        "ax=sns.distplot(data[\"COUNT FEMALE\"])"
      ],
      "execution_count": 0,
      "outputs": []
    },
    {
      "cell_type": "code",
      "metadata": {
        "id": "KJdSeR3RZCx1",
        "colab_type": "code",
        "colab": {}
      },
      "source": [
        "ax=sns.distplot(data[\"COUNT FEMALE\"],kde=False,rug=True,bins=30)"
      ],
      "execution_count": 0,
      "outputs": []
    },
    {
      "cell_type": "code",
      "metadata": {
        "id": "cUzJkUZMZ1rJ",
        "colab_type": "code",
        "colab": {}
      },
      "source": [
        "ax=sns.boxplot(x=\"COUNT RECEIVES PUBLIC ASSISTANCE\",y=\"COUNT FEMALE\",data=data)"
      ],
      "execution_count": 0,
      "outputs": []
    },
    {
      "cell_type": "code",
      "metadata": {
        "id": "w1t30QDyapA4",
        "colab_type": "code",
        "colab": {}
      },
      "source": [
        "uniform_data=np.random.rand(10,12)\n",
        "print(uniform_data)"
      ],
      "execution_count": 0,
      "outputs": []
    },
    {
      "cell_type": "code",
      "metadata": {
        "id": "c0GNWf1KmLkz",
        "colab_type": "code",
        "colab": {}
      },
      "source": [
        "ax=sns.heatmap(uniform_data,cmap=\"YlGnBu\")"
      ],
      "execution_count": 0,
      "outputs": []
    },
    {
      "cell_type": "code",
      "metadata": {
        "id": "nhHopQ9ZmdYf",
        "colab_type": "code",
        "colab": {}
      },
      "source": [
        "!wget https://upload.wikimedia.org/wikipedia/commons/thumb/f/fa/Yayaying_Rhatha_Phongam_Cannes_2013.jpg/220px-Yayaying_Rhatha_Phongam_Cannes_2013.jpg"
      ],
      "execution_count": 0,
      "outputs": []
    },
    {
      "cell_type": "code",
      "metadata": {
        "id": "N-XnH0LXnsS8",
        "colab_type": "code",
        "colab": {}
      },
      "source": [
        "!ls"
      ],
      "execution_count": 0,
      "outputs": []
    },
    {
      "cell_type": "code",
      "metadata": {
        "id": "Xld6Nm8OnxIQ",
        "colab_type": "code",
        "colab": {}
      },
      "source": [
        "!mv 220px-Yayaying_Rhatha_Phongam_Cannes_2013.jpg rhatha.jpg"
      ],
      "execution_count": 0,
      "outputs": []
    },
    {
      "cell_type": "code",
      "metadata": {
        "id": "1sb-fk24tDO-",
        "colab_type": "code",
        "colab": {}
      },
      "source": [
        "!ls"
      ],
      "execution_count": 0,
      "outputs": []
    },
    {
      "cell_type": "code",
      "metadata": {
        "id": "iK5aZiANtHIg",
        "colab_type": "code",
        "colab": {}
      },
      "source": [
        "import matplotlib.image as mpimg"
      ],
      "execution_count": 0,
      "outputs": []
    },
    {
      "cell_type": "code",
      "metadata": {
        "id": "OCJqtnBNtUTQ",
        "colab_type": "code",
        "colab": {}
      },
      "source": [
        "img=mpimg.imread('rhatha.jpg')\n",
        "print(img)"
      ],
      "execution_count": 0,
      "outputs": []
    },
    {
      "cell_type": "code",
      "metadata": {
        "id": "V8dHdy3ftpV4",
        "colab_type": "code",
        "colab": {}
      },
      "source": [
        "rhathaplot=plt.imshow(img)"
      ],
      "execution_count": 0,
      "outputs": []
    }
  ]
}